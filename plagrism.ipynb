{
 "cells": [
  {
   "cell_type": "code",
   "execution_count": 24,
   "metadata": {},
   "outputs": [
    {
     "data": {
      "text/plain": [
       "['The main concept of a network of smart devices was discussed as early as 1982, with a modified Coca-Cola vending machine at Carnegie Mellon University becoming the first Internet-connected appliance,[5] able to report its inventory and whether newly loaded drinks were cold or not.[6] Mark Weiser\\'s 1991 paper on ubiquitous computing, \"The Computer of the 21st Century\", as well as academic venues such as UbiComp and PerCom produced the contemporary vision of the IoT.[7][8] In 1994, Reza Raji described the concept in IEEE Spectrum as \"[moving] small packets of data to a large set of nodes, so as to integrate and automate everything from home appliances to entire factories\".[9] Between 1993 and 1997, several companies proposed solutions like Microsoft\\'s at Work or Novell\\'s NEST. The field gained momentum when Bill Joy envisioned device-to-device communication as a part of his \"Six Webs\" framework, presented at the World Economic Forum at Davos in 1999.[10]\\n',\n",
       " '\\n',\n",
       " 'The term \"Internet of things\" was likely coined by Kevin Ashton of Procter & Gamble, later MIT\\'s Auto-ID Center, in 1999,[11] though he prefers the phrase \"Internet for things\".[12] At that point, he viewed radio-frequency identification (RFID) as essential to the Internet of things,[13] which would allow computers to manage all individual things.[14][15][16]\\n',\n",
       " '\\n',\n",
       " 'Defining the Internet of things as \"simply the point in time when more \\'things or objects\\' were connected to the Internet than people\", Cisco Systems estimated that the IoT was \"born\" between 2008 and 2009, with the things/people ratio growing from 0.08 in 2003 to 1.84 in 2010.[17]\\n',\n",
       " '\\n',\n",
       " \"The key driving force behind the Internet of things is the MOSFET (metal-oxide-semiconductor field-effect transistor, or MOS transistor),[18] which was originally invented by Mohamed M. Atalla and Dawon Kahng at Bell Labs in 1959.[19][20] The MOSFET is the basic building block of most modern electronics, including computers, smartphones, tablets and Internet services. MOSFET scaling miniaturization at a pace predicted by Dennard scaling and Moore's law has been the driving force behind technological advances in the electronics industry since the late 20th century. MOSFET scaling has been extended into the early 21st century with advances such as reducing power consumption, silicon-on-insulator (SOI) semiconductor device fabrication, and multi-core processor technology, leading up to the Internet of things, which is being driven by MOSFETs scaling down to nanoelectronic levels with reducing energy consumption.[21]\"]"
      ]
     },
     "execution_count": 24,
     "metadata": {},
     "output_type": "execute_result"
    }
   ],
   "source": [
    "doc1 = open(\"doc1.txt\",\"r\")\n",
    "t1 = doc1.readlines()\n",
    "t1"
   ]
  },
  {
   "cell_type": "code",
   "execution_count": 25,
   "metadata": {},
   "outputs": [
    {
     "data": {
      "text/plain": [
       "['The internet of things, or IoT, is a system of interrelated computing devices, mechanical and digital machines, objects, animals or people that are provided with unique identifiers (UIDs) and the ability to transfer data over a network without requiring human-to-human or human-to-computer interaction.\\n',\n",
       " '\\n',\n",
       " 'The main concept of a network of smart devices was discussed as early as 1982, with a modified Coca-Cola vending machine at Carnegie Mellon University becoming the first Internet-connected appliance,[5] able to report its inventory and whether newly loaded drinks were cold or not.[6] Mark Weiser\\'s 1991 paper on ubiquitous computing, \"The Computer of the 21st Century\", as well as academic venues such as UbiComp and PerCom produced the contemporary vision of the IoT.[7][8] In 1994, Reza Raji described the concept in IEEE Spectrum as \"[moving] small packets of data to a large set of nodes, so as to integrate and automate everything from home appliances to entire factories\".[9] Between 1993 and 1997, several companies proposed solutions like Microsoft\\'s at Work or Novell\\'s NEST. The field gained momentum when Bill Joy envisioned device-to-device communication as a part of his \"Six Webs\" framework, presented at the World Economic Forum at Davos in 1999.[10]\\n',\n",
       " '\\n',\n",
       " 'The term \"Internet of things\" was likely coined by Kevin Ashton of Procter & Gamble, later MIT\\'s Auto-ID Center, in 1999,[11] though he prefers the phrase \"Internet for things\".[12] At that point, he viewed radio-frequency identification (RFID) as essential to the Internet of things,[13] which would allow computers to manage all individual things.[14][15][16]\\n',\n",
       " '\\n',\n",
       " 'Defining the Internet of things as \"simply the point in time when more \\'things or objects\\' were connected to the Internet than people\", Cisco Systems estimated that the IoT was \"born\" between 2008 and 2009, with the things/people ratio growing from 0.08 in 2003 to 1.84 in 2010.[17]\\n',\n",
       " '\\n',\n",
       " \"The key driving force behind the Internet of things is the MOSFET (metal-oxide-semiconductor field-effect transistor, or MOS transistor),[18] which was originally invented by Mohamed M. Atalla and Dawon Kahng at Bell Labs in 1959.[19][20] The MOSFET is the basic building block of most modern electronics, including computers, smartphones, tablets and Internet services. MOSFET scaling miniaturization at a pace predicted by Dennard scaling and Moore's law has been the driving force behind technological advances in the electronics industry since the late 20th century. MOSFET scaling has been extended into the early 21st century with advances such as reducing power consumption, silicon-on-insulator (SOI) semiconductor device fabrication, and multi-core processor technology, leading up to the Internet of things, which is being driven by MOSFETs scaling down to nanoelectronic levels with reducing energy consumption.[21]\"]"
      ]
     },
     "execution_count": 25,
     "metadata": {},
     "output_type": "execute_result"
    }
   ],
   "source": [
    "doc2 = open(\"doc2.txt\",\"r\")\n",
    "t2 = doc2.readlines()\n",
    "t2"
   ]
  },
  {
   "cell_type": "code",
   "execution_count": 26,
   "metadata": {},
   "outputs": [],
   "source": [
    "import nltk"
   ]
  },
  {
   "cell_type": "code",
   "execution_count": 27,
   "metadata": {},
   "outputs": [],
   "source": [
    "str1 = \"\".join(t1)\n",
    "str2 = \"\".join(t2)"
   ]
  },
  {
   "cell_type": "code",
   "execution_count": 28,
   "metadata": {},
   "outputs": [
    {
     "data": {
      "text/plain": [
       "'The main concept of a network of smart devices was discussed as early as 1982, with a modified Coca-Cola vending machine at Carnegie Mellon University becoming the first Internet-connected appliance,[5] able to report its inventory and whether newly loaded drinks were cold or not.[6] Mark Weiser\\'s 1991 paper on ubiquitous computing, \"The Computer of the 21st Century\", as well as academic venues such as UbiComp and PerCom produced the contemporary vision of the IoT.[7][8] In 1994, Reza Raji described the concept in IEEE Spectrum as \"[moving] small packets of data to a large set of nodes, so as to integrate and automate everything from home appliances to entire factories\".[9] Between 1993 and 1997, several companies proposed solutions like Microsoft\\'s at Work or Novell\\'s NEST. The field gained momentum when Bill Joy envisioned device-to-device communication as a part of his \"Six Webs\" framework, presented at the World Economic Forum at Davos in 1999.[10]\\n\\nThe term \"Internet of things\" was likely coined by Kevin Ashton of Procter & Gamble, later MIT\\'s Auto-ID Center, in 1999,[11] though he prefers the phrase \"Internet for things\".[12] At that point, he viewed radio-frequency identification (RFID) as essential to the Internet of things,[13] which would allow computers to manage all individual things.[14][15][16]\\n\\nDefining the Internet of things as \"simply the point in time when more \\'things or objects\\' were connected to the Internet than people\", Cisco Systems estimated that the IoT was \"born\" between 2008 and 2009, with the things/people ratio growing from 0.08 in 2003 to 1.84 in 2010.[17]\\n\\nThe key driving force behind the Internet of things is the MOSFET (metal-oxide-semiconductor field-effect transistor, or MOS transistor),[18] which was originally invented by Mohamed M. Atalla and Dawon Kahng at Bell Labs in 1959.[19][20] The MOSFET is the basic building block of most modern electronics, including computers, smartphones, tablets and Internet services. MOSFET scaling miniaturization at a pace predicted by Dennard scaling and Moore\\'s law has been the driving force behind technological advances in the electronics industry since the late 20th century. MOSFET scaling has been extended into the early 21st century with advances such as reducing power consumption, silicon-on-insulator (SOI) semiconductor device fabrication, and multi-core processor technology, leading up to the Internet of things, which is being driven by MOSFETs scaling down to nanoelectronic levels with reducing energy consumption.[21]'"
      ]
     },
     "execution_count": 28,
     "metadata": {},
     "output_type": "execute_result"
    }
   ],
   "source": [
    "str1"
   ]
  },
  {
   "cell_type": "code",
   "execution_count": 37,
   "metadata": {},
   "outputs": [
    {
     "data": {
      "text/plain": [
       "'The internet of things, or IoT, is a system of interrelated computing devices, mechanical and digital machines, objects, animals or people that are provided with unique identifiers (UIDs) and the ability to transfer data over a network without requiring human-to-human or human-to-computer interaction.\\n\\nThe main concept of a network of smart devices was discussed as early as 1982, with a modified Coca-Cola vending machine at Carnegie Mellon University becoming the first Internet-connected appliance,[5] able to report its inventory and whether newly loaded drinks were cold or not.[6] Mark Weiser\\'s 1991 paper on ubiquitous computing, \"The Computer of the 21st Century\", as well as academic venues such as UbiComp and PerCom produced the contemporary vision of the IoT.[7][8] In 1994, Reza Raji described the concept in IEEE Spectrum as \"[moving] small packets of data to a large set of nodes, so as to integrate and automate everything from home appliances to entire factories\".[9] Between 1993 and 1997, several companies proposed solutions like Microsoft\\'s at Work or Novell\\'s NEST. The field gained momentum when Bill Joy envisioned device-to-device communication as a part of his \"Six Webs\" framework, presented at the World Economic Forum at Davos in 1999.[10]\\n\\nThe term \"Internet of things\" was likely coined by Kevin Ashton of Procter & Gamble, later MIT\\'s Auto-ID Center, in 1999,[11] though he prefers the phrase \"Internet for things\".[12] At that point, he viewed radio-frequency identification (RFID) as essential to the Internet of things,[13] which would allow computers to manage all individual things.[14][15][16]\\n\\nDefining the Internet of things as \"simply the point in time when more \\'things or objects\\' were connected to the Internet than people\", Cisco Systems estimated that the IoT was \"born\" between 2008 and 2009, with the things/people ratio growing from 0.08 in 2003 to 1.84 in 2010.[17]\\n\\nThe key driving force behind the Internet of things is the MOSFET (metal-oxide-semiconductor field-effect transistor, or MOS transistor),[18] which was originally invented by Mohamed M. Atalla and Dawon Kahng at Bell Labs in 1959.[19][20] The MOSFET is the basic building block of most modern electronics, including computers, smartphones, tablets and Internet services. MOSFET scaling miniaturization at a pace predicted by Dennard scaling and Moore\\'s law has been the driving force behind technological advances in the electronics industry since the late 20th century. MOSFET scaling has been extended into the early 21st century with advances such as reducing power consumption, silicon-on-insulator (SOI) semiconductor device fabrication, and multi-core processor technology, leading up to the Internet of things, which is being driven by MOSFETs scaling down to nanoelectronic levels with reducing energy consumption.[21]'"
      ]
     },
     "execution_count": 37,
     "metadata": {},
     "output_type": "execute_result"
    }
   ],
   "source": [
    "str2"
   ]
  },
  {
   "cell_type": "code",
   "execution_count": 38,
   "metadata": {},
   "outputs": [],
   "source": [
    "sent1 = str1.split('\\n')\n",
    "sent2 = str2.split('\\n')"
   ]
  },
  {
   "cell_type": "code",
   "execution_count": 39,
   "metadata": {},
   "outputs": [
    {
     "data": {
      "text/plain": [
       "['The main concept of a network of smart devices was discussed as early as 1982, with a modified Coca-Cola vending machine at Carnegie Mellon University becoming the first Internet-connected appliance,[5] able to report its inventory and whether newly loaded drinks were cold or not.[6] Mark Weiser\\'s 1991 paper on ubiquitous computing, \"The Computer of the 21st Century\", as well as academic venues such as UbiComp and PerCom produced the contemporary vision of the IoT.[7][8] In 1994, Reza Raji described the concept in IEEE Spectrum as \"[moving] small packets of data to a large set of nodes, so as to integrate and automate everything from home appliances to entire factories\".[9] Between 1993 and 1997, several companies proposed solutions like Microsoft\\'s at Work or Novell\\'s NEST. The field gained momentum when Bill Joy envisioned device-to-device communication as a part of his \"Six Webs\" framework, presented at the World Economic Forum at Davos in 1999.[10]',\n",
       " '',\n",
       " 'The term \"Internet of things\" was likely coined by Kevin Ashton of Procter & Gamble, later MIT\\'s Auto-ID Center, in 1999,[11] though he prefers the phrase \"Internet for things\".[12] At that point, he viewed radio-frequency identification (RFID) as essential to the Internet of things,[13] which would allow computers to manage all individual things.[14][15][16]',\n",
       " '',\n",
       " 'Defining the Internet of things as \"simply the point in time when more \\'things or objects\\' were connected to the Internet than people\", Cisco Systems estimated that the IoT was \"born\" between 2008 and 2009, with the things/people ratio growing from 0.08 in 2003 to 1.84 in 2010.[17]',\n",
       " '',\n",
       " \"The key driving force behind the Internet of things is the MOSFET (metal-oxide-semiconductor field-effect transistor, or MOS transistor),[18] which was originally invented by Mohamed M. Atalla and Dawon Kahng at Bell Labs in 1959.[19][20] The MOSFET is the basic building block of most modern electronics, including computers, smartphones, tablets and Internet services. MOSFET scaling miniaturization at a pace predicted by Dennard scaling and Moore's law has been the driving force behind technological advances in the electronics industry since the late 20th century. MOSFET scaling has been extended into the early 21st century with advances such as reducing power consumption, silicon-on-insulator (SOI) semiconductor device fabrication, and multi-core processor technology, leading up to the Internet of things, which is being driven by MOSFETs scaling down to nanoelectronic levels with reducing energy consumption.[21]\"]"
      ]
     },
     "execution_count": 39,
     "metadata": {},
     "output_type": "execute_result"
    }
   ],
   "source": [
    "sent1"
   ]
  },
  {
   "cell_type": "code",
   "execution_count": 35,
   "metadata": {},
   "outputs": [],
   "source": [
    "final = []\n",
    "for i in sent1:\n",
    "    for j in sent2:\n",
    "        if i==j:\n",
    "            final.append(i)"
   ]
  },
  {
   "cell_type": "code",
   "execution_count": 36,
   "metadata": {},
   "outputs": [
    {
     "data": {
      "text/plain": [
       "['The main concept of a network of smart devices was discussed as early as 1982, with a modified Coca-Cola vending machine at Carnegie Mellon University becoming the first Internet-connected appliance,[5] able to report its inventory and whether newly loaded drinks were cold or not.[6] Mark Weiser\\'s 1991 paper on ubiquitous computing, \"The Computer of the 21st Century\", as well as academic venues such as UbiComp and PerCom produced the contemporary vision of the IoT.[7][8] In 1994, Reza Raji described the concept in IEEE Spectrum as \"[moving] small packets of data to a large set of nodes, so as to integrate and automate everything from home appliances to entire factories\".[9] Between 1993 and 1997, several companies proposed solutions like Microsoft\\'s at Work or Novell\\'s NEST. The field gained momentum when Bill Joy envisioned device-to-device communication as a part of his \"Six Webs\" framework, presented at the World Economic Forum at Davos in 1999.[10]',\n",
       " '',\n",
       " '',\n",
       " '',\n",
       " '',\n",
       " 'The term \"Internet of things\" was likely coined by Kevin Ashton of Procter & Gamble, later MIT\\'s Auto-ID Center, in 1999,[11] though he prefers the phrase \"Internet for things\".[12] At that point, he viewed radio-frequency identification (RFID) as essential to the Internet of things,[13] which would allow computers to manage all individual things.[14][15][16]',\n",
       " '',\n",
       " '',\n",
       " '',\n",
       " '',\n",
       " 'Defining the Internet of things as \"simply the point in time when more \\'things or objects\\' were connected to the Internet than people\", Cisco Systems estimated that the IoT was \"born\" between 2008 and 2009, with the things/people ratio growing from 0.08 in 2003 to 1.84 in 2010.[17]',\n",
       " '',\n",
       " '',\n",
       " '',\n",
       " '',\n",
       " \"The key driving force behind the Internet of things is the MOSFET (metal-oxide-semiconductor field-effect transistor, or MOS transistor),[18] which was originally invented by Mohamed M. Atalla and Dawon Kahng at Bell Labs in 1959.[19][20] The MOSFET is the basic building block of most modern electronics, including computers, smartphones, tablets and Internet services. MOSFET scaling miniaturization at a pace predicted by Dennard scaling and Moore's law has been the driving force behind technological advances in the electronics industry since the late 20th century. MOSFET scaling has been extended into the early 21st century with advances such as reducing power consumption, silicon-on-insulator (SOI) semiconductor device fabrication, and multi-core processor technology, leading up to the Internet of things, which is being driven by MOSFETs scaling down to nanoelectronic levels with reducing energy consumption.[21]\"]"
      ]
     },
     "execution_count": 36,
     "metadata": {},
     "output_type": "execute_result"
    }
   ],
   "source": [
    "final"
   ]
  },
  {
   "cell_type": "code",
   "execution_count": null,
   "metadata": {},
   "outputs": [],
   "source": []
  },
  {
   "cell_type": "code",
   "execution_count": null,
   "metadata": {},
   "outputs": [],
   "source": []
  }
 ],
 "metadata": {
  "kernelspec": {
   "display_name": "Python 3",
   "language": "python",
   "name": "python3"
  },
  "language_info": {
   "codemirror_mode": {
    "name": "ipython",
    "version": 3
   },
   "file_extension": ".py",
   "mimetype": "text/x-python",
   "name": "python",
   "nbconvert_exporter": "python",
   "pygments_lexer": "ipython3",
   "version": "3.7.6"
  }
 },
 "nbformat": 4,
 "nbformat_minor": 4
}
